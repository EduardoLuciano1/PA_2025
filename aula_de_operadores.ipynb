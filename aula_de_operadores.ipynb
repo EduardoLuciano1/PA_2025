{
  "nbformat": 4,
  "nbformat_minor": 0,
  "metadata": {
    "colab": {
      "provenance": [],
      "collapsed_sections": [
        "jt0j6-eOheNj",
        "MdAwgHVplu2T"
      ],
      "authorship_tag": "ABX9TyN0Eoou5eoWx233+FZekXCD",
      "include_colab_link": true
    },
    "kernelspec": {
      "name": "python3",
      "display_name": "Python 3"
    },
    "language_info": {
      "name": "python"
    }
  },
  "cells": [
    {
      "cell_type": "markdown",
      "metadata": {
        "id": "view-in-github",
        "colab_type": "text"
      },
      "source": [
        "<a href=\"https://colab.research.google.com/github/EduardoLuciano1/PA_2025/blob/main/aula_de_operadores.ipynb\" target=\"_parent\"><img src=\"https://colab.research.google.com/assets/colab-badge.svg\" alt=\"Open In Colab\"/></a>"
      ]
    },
    {
      "cell_type": "markdown",
      "source": [
        "#Soma"
      ],
      "metadata": {
        "id": "f_RLokq6gwoe"
      }
    },
    {
      "cell_type": "code",
      "execution_count": null,
      "metadata": {
        "colab": {
          "base_uri": "https://localhost:8080/"
        },
        "id": "rHyLMI8cdy6d",
        "outputId": "2d6923da-d1a3-4e7c-d2f3-3fa29362061d"
      },
      "outputs": [
        {
          "output_type": "execute_result",
          "data": {
            "text/plain": [
              "4"
            ]
          },
          "metadata": {},
          "execution_count": 7
        }
      ],
      "source": [
        "2+2"
      ]
    },
    {
      "cell_type": "markdown",
      "source": [
        "#Subtração"
      ],
      "metadata": {
        "id": "QFtvIb53hI06"
      }
    },
    {
      "cell_type": "code",
      "source": [
        "9-4"
      ],
      "metadata": {
        "colab": {
          "base_uri": "https://localhost:8080/"
        },
        "id": "U7rIOw2mhL-x",
        "outputId": "c09b7ae3-e678-46a7-e22d-cb818298fa9d"
      },
      "execution_count": null,
      "outputs": [
        {
          "output_type": "execute_result",
          "data": {
            "text/plain": [
              "5"
            ]
          },
          "metadata": {},
          "execution_count": 6
        }
      ]
    },
    {
      "cell_type": "markdown",
      "source": [
        "#Multiplicação"
      ],
      "metadata": {
        "id": "a3S5aburhVZD"
      }
    },
    {
      "cell_type": "code",
      "source": [
        "5*6"
      ],
      "metadata": {
        "colab": {
          "base_uri": "https://localhost:8080/"
        },
        "id": "aqxWIGaohaqD",
        "outputId": "b5c134eb-0c69-4929-99ff-19c4d0f75ed5"
      },
      "execution_count": null,
      "outputs": [
        {
          "output_type": "execute_result",
          "data": {
            "text/plain": [
              "30"
            ]
          },
          "metadata": {},
          "execution_count": 5
        }
      ]
    },
    {
      "cell_type": "markdown",
      "source": [
        "#Divisão"
      ],
      "metadata": {
        "id": "jt0j6-eOheNj"
      }
    },
    {
      "cell_type": "code",
      "source": [
        "4/5"
      ],
      "metadata": {
        "colab": {
          "base_uri": "https://localhost:8080/"
        },
        "id": "CLfGbVnzhhQE",
        "outputId": "93fd0710-2563-4069-90f6-2f48d9d15f81"
      },
      "execution_count": null,
      "outputs": [
        {
          "output_type": "execute_result",
          "data": {
            "text/plain": [
              "0.8"
            ]
          },
          "metadata": {},
          "execution_count": 4
        }
      ]
    },
    {
      "cell_type": "markdown",
      "source": [
        "#Igualdade"
      ],
      "metadata": {
        "id": "FzIXZNxwio2T"
      }
    },
    {
      "cell_type": "markdown",
      "source": [
        "### = é de receber um valor. == é sinal de igualdade do valor que recebeu."
      ],
      "metadata": {
        "id": "4HNPFxfmi3YT"
      }
    },
    {
      "cell_type": "code",
      "source": [
        "a = 4\n",
        "a==4"
      ],
      "metadata": {
        "colab": {
          "base_uri": "https://localhost:8080/"
        },
        "id": "lLmT1JVxiskE",
        "outputId": "8a862e49-12e0-4b51-e0fe-6f4257d9602a"
      },
      "execution_count": null,
      "outputs": [
        {
          "output_type": "execute_result",
          "data": {
            "text/plain": [
              "True"
            ]
          },
          "metadata": {},
          "execution_count": 8
        }
      ]
    },
    {
      "cell_type": "markdown",
      "source": [
        "## Expoente"
      ],
      "metadata": {
        "id": "h9G0eDN8jO2f"
      }
    },
    {
      "cell_type": "markdown",
      "source": [
        "### Dois asteriscos significa expoente, quadrado/cubo de um número. Um só significa multiplicação."
      ],
      "metadata": {
        "id": "M1ZWwglDjfoJ"
      }
    },
    {
      "cell_type": "code",
      "source": [
        "4**3"
      ],
      "metadata": {
        "colab": {
          "base_uri": "https://localhost:8080/"
        },
        "id": "z7nyAx0bjSD1",
        "outputId": "643be164-a372-4e1b-a8f3-da23398b7ea7"
      },
      "execution_count": null,
      "outputs": [
        {
          "output_type": "execute_result",
          "data": {
            "text/plain": [
              "64"
            ]
          },
          "metadata": {},
          "execution_count": 10
        }
      ]
    },
    {
      "cell_type": "markdown",
      "source": [
        "#Maior, menor, maior ou igual e menor ou igual"
      ],
      "metadata": {
        "id": "4O1khpCgj2-w"
      }
    },
    {
      "cell_type": "markdown",
      "source": [
        "### maior é >, menor é <."
      ],
      "metadata": {
        "id": "91cLYV4Pkxz_"
      }
    },
    {
      "cell_type": "code",
      "source": [
        "5>2"
      ],
      "metadata": {
        "colab": {
          "base_uri": "https://localhost:8080/"
        },
        "id": "XpXHahl1kFqT",
        "outputId": "6b347388-dc60-414b-b2d5-0e6bd4705320"
      },
      "execution_count": null,
      "outputs": [
        {
          "output_type": "execute_result",
          "data": {
            "text/plain": [
              "True"
            ]
          },
          "metadata": {},
          "execution_count": 11
        }
      ]
    },
    {
      "cell_type": "code",
      "source": [
        "5>6"
      ],
      "metadata": {
        "colab": {
          "base_uri": "https://localhost:8080/"
        },
        "id": "PSiRv8Cwkotg",
        "outputId": "6c9bda15-6b0a-4204-bf85-46f19399ae8b"
      },
      "execution_count": null,
      "outputs": [
        {
          "output_type": "execute_result",
          "data": {
            "text/plain": [
              "False"
            ]
          },
          "metadata": {},
          "execution_count": 12
        }
      ]
    },
    {
      "cell_type": "code",
      "source": [
        "5<6"
      ],
      "metadata": {
        "colab": {
          "base_uri": "https://localhost:8080/"
        },
        "id": "wmS1xpGylG-B",
        "outputId": "ccb924fa-b266-4157-d868-949ddeefa8ec"
      },
      "execution_count": null,
      "outputs": [
        {
          "output_type": "execute_result",
          "data": {
            "text/plain": [
              "True"
            ]
          },
          "metadata": {},
          "execution_count": 14
        }
      ]
    },
    {
      "cell_type": "code",
      "source": [
        "5<4"
      ],
      "metadata": {
        "colab": {
          "base_uri": "https://localhost:8080/"
        },
        "id": "xcPIuM9LlNUA",
        "outputId": "609340be-137f-465b-b982-3c935839b62a"
      },
      "execution_count": null,
      "outputs": [
        {
          "output_type": "execute_result",
          "data": {
            "text/plain": [
              "False"
            ]
          },
          "metadata": {},
          "execution_count": 16
        }
      ]
    },
    {
      "cell_type": "markdown",
      "source": [
        "### maior ou igual é >=. Menor ou igual é <=. Diferente é !=."
      ],
      "metadata": {
        "id": "MdAwgHVplu2T"
      }
    },
    {
      "cell_type": "code",
      "source": [
        "5>=5"
      ],
      "metadata": {
        "colab": {
          "base_uri": "https://localhost:8080/"
        },
        "id": "pewDu_SElok7",
        "outputId": "35f5f38d-c565-4098-fd6d-944254eb5326"
      },
      "execution_count": null,
      "outputs": [
        {
          "output_type": "execute_result",
          "data": {
            "text/plain": [
              "True"
            ]
          },
          "metadata": {},
          "execution_count": 17
        }
      ]
    },
    {
      "cell_type": "code",
      "source": [
        "5<=56"
      ],
      "metadata": {
        "colab": {
          "base_uri": "https://localhost:8080/"
        },
        "id": "5cX2iAromHkV",
        "outputId": "de05ed99-5968-4430-bb70-a69aac3b0131"
      },
      "execution_count": null,
      "outputs": [
        {
          "output_type": "execute_result",
          "data": {
            "text/plain": [
              "True"
            ]
          },
          "metadata": {},
          "execution_count": 29
        }
      ]
    },
    {
      "cell_type": "code",
      "source": [
        "5-6+8+15*(6/2)+4-9"
      ],
      "metadata": {
        "colab": {
          "base_uri": "https://localhost:8080/"
        },
        "id": "f47d83vPmc8O",
        "outputId": "d9f06c5a-552f-433e-aa14-fd76db6640a5"
      },
      "execution_count": null,
      "outputs": [
        {
          "output_type": "execute_result",
          "data": {
            "text/plain": [
              "47.0"
            ]
          },
          "metadata": {},
          "execution_count": 31
        }
      ]
    },
    {
      "cell_type": "markdown",
      "source": [
        "### a é 4 como colocamos em igualdade."
      ],
      "metadata": {
        "id": "yIeCMwmznnLK"
      }
    },
    {
      "cell_type": "code",
      "source": [
        "a!=4"
      ],
      "metadata": {
        "colab": {
          "base_uri": "https://localhost:8080/"
        },
        "id": "-rzPysZlnTLr",
        "outputId": "653d239e-d235-4ef4-b877-77c07ce4649d"
      },
      "execution_count": null,
      "outputs": [
        {
          "output_type": "execute_result",
          "data": {
            "text/plain": [
              "False"
            ]
          },
          "metadata": {},
          "execution_count": 32
        }
      ]
    },
    {
      "cell_type": "markdown",
      "source": [
        "#Variaveis"
      ],
      "metadata": {
        "id": "SzfHZzU1nr8V"
      }
    },
    {
      "cell_type": "code",
      "source": [
        "nome = \"Eduardo\"\n",
        "sobrenome = \"Lemes.\"\n",
        "\n",
        "print (\"Meu nome é\", nome, sobrenome)"
      ],
      "metadata": {
        "colab": {
          "base_uri": "https://localhost:8080/"
        },
        "id": "v_OybavanwN0",
        "outputId": "c3715980-7e9e-4678-84e8-f6c66fe9dbd0"
      },
      "execution_count": null,
      "outputs": [
        {
          "output_type": "stream",
          "name": "stdout",
          "text": [
            "Meu nome é Eduardo Lemes.\n"
          ]
        }
      ]
    },
    {
      "cell_type": "code",
      "source": [
        "nome = str(input('Digite seu nome: '))\n",
        "sobrenom = str(input(\"Digite  seu sobrenome: \"))\n",
        "\n",
        "print('Meu nome é ', nome, sobrenome)"
      ],
      "metadata": {
        "colab": {
          "base_uri": "https://localhost:8080/"
        },
        "id": "IUETpkX2r0PZ",
        "outputId": "13ed010e-d371-443d-e3b8-6863ee8fee3c"
      },
      "execution_count": null,
      "outputs": [
        {
          "output_type": "stream",
          "name": "stdout",
          "text": [
            "Digite seu nome: Josefo\n",
            "Digite  seu sobrenome: Dois\n",
            "Meu nome é  Josefo Dois\n"
          ]
        }
      ]
    },
    {
      "cell_type": "markdown",
      "source": [
        "#Area do Quadrado"
      ],
      "metadata": {
        "id": "APR5-yhOt3UF"
      }
    },
    {
      "cell_type": "markdown",
      "source": [
        "### \"int\" é para números inteiros, \"str\" é para texto e \"float\" para números quebrados."
      ],
      "metadata": {
        "id": "v-7rbYEyyOOC"
      }
    },
    {
      "cell_type": "markdown",
      "source": [
        "##float"
      ],
      "metadata": {
        "id": "4tULTUFNzEes"
      }
    },
    {
      "cell_type": "code",
      "source": [
        "#Entrada\n",
        "lado = float(input(\"Digite o lado do quadrado:\"))\n",
        "\n",
        "#Processamento\n",
        "area = (lado*lado)\n",
        "\n",
        "#Saída\n",
        "print (\"A área é: \", area, \"já que o lado é\", lado)"
      ],
      "metadata": {
        "colab": {
          "base_uri": "https://localhost:8080/"
        },
        "id": "4LdTDKUGt6Dj",
        "outputId": "acf411c6-64e5-4b63-b5c1-b11855987a0c"
      },
      "execution_count": null,
      "outputs": [
        {
          "output_type": "stream",
          "name": "stdout",
          "text": [
            "Digite o lado do quadrado: 3.14\n",
            "A área é:  9.8596 já que o lado é 3.14\n"
          ]
        }
      ]
    },
    {
      "cell_type": "markdown",
      "source": [
        "##int"
      ],
      "metadata": {
        "id": "5OJ-JozHy3Qp"
      }
    },
    {
      "cell_type": "code",
      "source": [],
      "metadata": {
        "id": "6gryZJZDy6XG"
      },
      "execution_count": null,
      "outputs": []
    },
    {
      "cell_type": "code",
      "source": [
        "#Entrada\n",
        "lado = int(input(\"Digite o lado do quadrado:\"))\n",
        "\n",
        "#Processamento\n",
        "area = (lado*lado)\n",
        "\n",
        "#Saída\n",
        "print (\"A área é: \", area, \"já que o lado é\", lado)"
      ],
      "metadata": {
        "colab": {
          "base_uri": "https://localhost:8080/"
        },
        "id": "5yPqgh1xyssm",
        "outputId": "03063b1f-9550-48d1-cbbe-fd15d512a9f9"
      },
      "execution_count": null,
      "outputs": [
        {
          "output_type": "stream",
          "name": "stdout",
          "text": [
            "Digite o lado do quadrado: 54\n",
            "A área é:  2916 já que o lado é 54\n"
          ]
        }
      ]
    }
  ]
}