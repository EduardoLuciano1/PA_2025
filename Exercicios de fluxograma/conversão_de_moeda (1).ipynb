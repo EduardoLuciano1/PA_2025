{
  "nbformat": 4,
  "nbformat_minor": 0,
  "metadata": {
    "colab": {
      "provenance": [],
      "authorship_tag": "ABX9TyPtKoBfwP7wku9id6uS29Kj",
      "include_colab_link": true
    },
    "kernelspec": {
      "name": "python3",
      "display_name": "Python 3"
    },
    "language_info": {
      "name": "python"
    }
  },
  "cells": [
    {
      "cell_type": "markdown",
      "metadata": {
        "id": "view-in-github",
        "colab_type": "text"
      },
      "source": [
        "<a href=\"https://colab.research.google.com/github/EduardoLuciano1/PA_2025/blob/main/convers%C3%A3o_de_moeda.ipynb\" target=\"_parent\"><img src=\"https://colab.research.google.com/assets/colab-badge.svg\" alt=\"Open In Colab\"/></a>"
      ]
    },
    {
      "cell_type": "code",
      "execution_count": 2,
      "metadata": {
        "colab": {
          "base_uri": "https://localhost:8080/"
        },
        "id": "C5etc9XAwnhP",
        "outputId": "ec6d6c0d-852b-4038-f259-ee5d173475d4"
      },
      "outputs": [
        {
          "output_type": "stream",
          "name": "stdout",
          "text": [
            "Digite a cotação do dólar: 5.75\n",
            "Digite o valor em reais: 80\n",
            "O valor em dólares é: $13.91\n"
          ]
        }
      ],
      "source": [
        "# Recebe a cotação do dólar e o valor em reais\n",
        "cotacao_dolar = float(input(\"Digite a cotação do dólar: \"))\n",
        "valor_reais = float(input(\"Digite o valor em reais: \"))\n",
        "\n",
        "# Converte para dólares\n",
        "valor_dolar = valor_reais / cotacao_dolar\n",
        "\n",
        "# Mostra o resultado\n",
        "print(f\"O valor em dólares é: ${valor_dolar:.2f}\")"
      ]
    }
  ]
}