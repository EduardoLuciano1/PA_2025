{
  "nbformat": 4,
  "nbformat_minor": 0,
  "metadata": {
    "colab": {
      "provenance": []
    },
    "kernelspec": {
      "name": "python3",
      "display_name": "Python 3"
    },
    "language_info": {
      "name": "python"
    }
  },
  "cells": [
    {
      "cell_type": "markdown",
      "source": [
        "Exercício 1"
      ],
      "metadata": {
        "id": "XBysyWswzrlS"
      }
    },
    {
      "cell_type": "code",
      "source": [
        "#entrada\n",
        "valorcarro = float(input(\"Digite o valor do carro: R$\"))\n",
        "\n",
        "#processamento\n",
        "imposto = (valorcarro*45/100) + valorcarro\n",
        "distribuicao = (imposto*28/100) + valorcarro\n",
        "custofinal = imposto + distribuicao\n",
        "\n",
        "#saída\n",
        "\n",
        "print(f\"Custo de fábrica: R${valorcarro:.2f}\")\n",
        "print(f\"Imposto(45%): R${imposto:.2f}\")\n",
        "print(f\"Distribuição(28%): R${distribuicao:.2f}\")\n",
        "print(f\"Custo para o cosnumidor: R${custofinal:.2f}\")"
      ],
      "metadata": {
        "colab": {
          "base_uri": "https://localhost:8080/"
        },
        "id": "xXfEVCdX0sgr",
        "outputId": "e5cb029f-a528-465b-b6b5-d9a50d01e439"
      },
      "execution_count": null,
      "outputs": [
        {
          "output_type": "stream",
          "name": "stdout",
          "text": [
            "Digite o valor do carro: 15000\n",
            "Custo de fábrica: R$15000.00\n",
            "Imposto(45%): R$21750.00\n",
            "Distribuição(28%): R$21090.00\n",
            "Custo para o cosnumidor: R$42840.00\n"
          ]
        }
      ]
    },
    {
      "cell_type": "markdown",
      "source": [
        "Exercício 2"
      ],
      "metadata": {
        "id": "bx2f9g5P-FV7"
      }
    },
    {
      "cell_type": "code",
      "source": [
        "#entrada\n",
        "horas = float(input(\"Coloque a hora:\"))\n",
        "minutos = float(input(\"Coloque os minutos:\"))\n",
        "#processamento\n",
        "segundos = (minutos/60) + horas\n",
        "#saída\n",
        "print(\"Em segundos são: \", segundos)"
      ],
      "metadata": {
        "colab": {
          "base_uri": "https://localhost:8080/"
        },
        "id": "6Agi9a1KA3m7",
        "outputId": "8b8336b6-0c53-48e7-e94b-7f1fd5eeaa16"
      },
      "execution_count": null,
      "outputs": [
        {
          "output_type": "stream",
          "name": "stdout",
          "text": [
            "Coloque a hora:3\n",
            "Coloque os minutos:46\n",
            "Em segundos são:  3.7666666666666666\n"
          ]
        }
      ]
    },
    {
      "cell_type": "markdown",
      "source": [
        "Exercício 3"
      ],
      "metadata": {
        "id": "cLJcHq9YB_ZM"
      }
    },
    {
      "cell_type": "code",
      "source": [
        "#entrada\n",
        "horast1 = float(input(\"Quantas horas trabalhou?: \"))\n",
        "minutost = float(input(\"Quantos minutos trabalhou?\"))\n",
        "ganhohora = float(input(\"Quanto ganha por hora?: \"))\n",
        "#processamento\n",
        "horast2 = horast1 + (minutost/60)\n",
        "horasext = horast2 * ganhohora * 70/100\n",
        "#saída\n",
        "print(f\"Você ganha R$ {horasext: .2f} pelas horas extras trabalhadas\")"
      ],
      "metadata": {
        "colab": {
          "base_uri": "https://localhost:8080/"
        },
        "id": "d3eciPBdCBfr",
        "outputId": "4b316a33-732b-47c0-dccf-a709983c2fdd"
      },
      "execution_count": null,
      "outputs": [
        {
          "output_type": "stream",
          "name": "stdout",
          "text": [
            "Quantas horas trabalhou?: 12\n",
            "Quantos minutos trabalhou?67\n",
            "Quanto ganha por hora?: 56\n",
            "Você ganha R$  514.17 pelas horas extras trabalhadas\n"
          ]
        }
      ]
    },
    {
      "cell_type": "markdown",
      "source": [
        "Exercício 4"
      ],
      "metadata": {
        "id": "ak3SWmu2GTM8"
      }
    },
    {
      "cell_type": "code",
      "source": [
        "#entrada\n",
        "c = float(input(\"Coloque o seu capital inicial: \"))\n",
        "i = float(input(\"Coloque a porcentagem anual: \"))\n",
        "t = int(input(\"Coloque o tempo do seu investimento: \"))\n",
        "#processamento\n",
        "i = i/100\n",
        "\n",
        "m = c*(1+i)**t\n",
        "#saída\n",
        "print(f\"Esse investimento renderá R${m: .2f} no período de {t} anos.\")"
      ],
      "metadata": {
        "id": "tCRGLaydGg0M",
        "colab": {
          "base_uri": "https://localhost:8080/"
        },
        "outputId": "c4902656-ca76-45f5-deea-53fbe08d7b8d"
      },
      "execution_count": 2,
      "outputs": [
        {
          "output_type": "stream",
          "name": "stdout",
          "text": [
            "Coloque o seu capital inicial: 1000\n",
            "Coloque a porcentagem anual: 6\n",
            "Coloque o tempo do seu investimento: 5\n",
            "Esse investimento renderá R$ 1338.23 no período de 5 anos.\n"
          ]
        }
      ]
    },
    {
      "cell_type": "markdown",
      "source": [
        "Exercício 5"
      ],
      "metadata": {
        "id": "FkPlVgzfGfcr"
      }
    },
    {
      "cell_type": "code",
      "source": [
        "#entrada\n",
        "valorconta = float(input(\"Coloque o valor da conta: R$\"))\n",
        "pessoas = int(input(\"Quantas pessoas são?: \"))\n",
        "gorjeta = float(input(\"Quanto quer dar de gorjeta?: R$\"))\n",
        "#processamento\n",
        "servico = valorconta*0.1\n",
        "vtotal = servico + valorconta\n",
        "gorjeta2 = vtotal  + gorjeta\n",
        "vpp = gorjeta2/pessoas\n",
        "#saída]\n",
        "print(f\"Taxa de serviço (10%): R$ {servico}\")\n",
        "print(f\"Valor total a ser pago: R${vtotal}\")\n",
        "print(f\"Valor com a gorjeta: R${gorjeta2}\")\n",
        "print(f\"Valor por pessoa: R${vpp}\")"
      ],
      "metadata": {
        "id": "l7lUIWXgGhV7",
        "colab": {
          "base_uri": "https://localhost:8080/"
        },
        "outputId": "4a22b2ef-3671-40e4-9695-0c7ec38de74e"
      },
      "execution_count": 4,
      "outputs": [
        {
          "output_type": "stream",
          "name": "stdout",
          "text": [
            "Coloque o valor da conta: R$200\n",
            "Quantas pessoas são?: 4\n",
            "Quanto quer dar de gorjeta?: R$50\n",
            "Taxa de serviço (10%): R$ 20.0\n",
            "Valor total a ser pago: R$220.0\n",
            "Valor com a gorjeta: R$270.0\n",
            "Valor por pessoa: R$67.5\n"
          ]
        }
      ]
    }
  ]
}