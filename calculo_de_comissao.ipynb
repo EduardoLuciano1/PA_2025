{
  "nbformat": 4,
  "nbformat_minor": 0,
  "metadata": {
    "colab": {
      "provenance": [],
      "authorship_tag": "ABX9TyMF7LVsxNsQbEj80GXRMY9r",
      "include_colab_link": true
    },
    "kernelspec": {
      "name": "python3",
      "display_name": "Python 3"
    },
    "language_info": {
      "name": "python"
    }
  },
  "cells": [
    {
      "cell_type": "markdown",
      "metadata": {
        "id": "view-in-github",
        "colab_type": "text"
      },
      "source": [
        "<a href=\"https://colab.research.google.com/github/EduardoLuciano1/PA_2025/blob/main/calculo_de_comissao.ipynb\" target=\"_parent\"><img src=\"https://colab.research.google.com/assets/colab-badge.svg\" alt=\"Open In Colab\"/></a>"
      ]
    },
    {
      "cell_type": "code",
      "execution_count": 1,
      "metadata": {
        "colab": {
          "base_uri": "https://localhost:8080/"
        },
        "id": "R0jq47DVxPQx",
        "outputId": "3063f959-607c-4dcc-874e-7df3ef4a36c4"
      },
      "outputs": [
        {
          "output_type": "stream",
          "name": "stdout",
          "text": [
            "Digite o preço unitário da peça: 56\n",
            "Digite a quantidade vendida: 8\n",
            "Valor total da venda: R$448.00\n",
            "Comissão do vendedor: R$22.40\n"
          ]
        }
      ],
      "source": [
        "# Recebe o preço unitário e a quantidade vendida\n",
        "preco_unitario = float(input(\"Digite o preço unitário da peça: \"))\n",
        "quantidade_vendida = int(input(\"Digite a quantidade vendida: \"))\n",
        "\n",
        "# Calcula o valor total da venda e a comissão\n",
        "valor_total_venda = preco_unitario * quantidade_vendida\n",
        "comissao = valor_total_venda * 0.05\n",
        "\n",
        "# Mostra os resultados\n",
        "print(f\"Valor total da venda: R${valor_total_venda:.2f}\")\n",
        "print(f\"Comissão do vendedor: R${comissao:.2f}\")\n"
      ]
    }
  ]
}