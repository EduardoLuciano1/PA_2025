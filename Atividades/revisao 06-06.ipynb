{
  "nbformat": 4,
  "nbformat_minor": 0,
  "metadata": {
    "colab": {
      "provenance": []
    },
    "kernelspec": {
      "name": "python3",
      "display_name": "Python 3"
    },
    "language_info": {
      "name": "python"
    }
  },
  "cells": [
    {
      "cell_type": "markdown",
      "source": [
        "# Exercício 1: Número Positivo ou Negativo"
      ],
      "metadata": {
        "id": "HfYYbYEg_gfW"
      }
    },
    {
      "cell_type": "code",
      "execution_count": 9,
      "metadata": {
        "colab": {
          "base_uri": "https://localhost:8080/"
        },
        "id": "0VbTma25_YoQ",
        "outputId": "e70fe94b-b171-4e0f-cec9-8faa62a77b38"
      },
      "outputs": [
        {
          "output_type": "stream",
          "name": "stdout",
          "text": [
            "digite um número: -1\n",
            "-1 é negativo.\n"
          ]
        }
      ],
      "source": [
        "num=int(input(\"digite um número: \"))\n",
        "\n",
        "if(num > 0):\n",
        "  print(f\"{num} é positivo.\")\n",
        "elif(num < 0):\n",
        "  print(f\"{num} é negativo.\")"
      ]
    },
    {
      "cell_type": "markdown",
      "source": [
        "# Exercício 2: Par ou Ímpar"
      ],
      "metadata": {
        "id": "DpYmeSaIBpEU"
      }
    },
    {
      "cell_type": "code",
      "source": [
        "num=int(input(\"digite um número: \"))\n",
        "\n",
        "if(num % 2 == 0):\n",
        "  print(f\"{num} é par.\")\n",
        "else:\n",
        "  print(f\"{num} é ímpar.\")"
      ],
      "metadata": {
        "colab": {
          "base_uri": "https://localhost:8080/"
        },
        "id": "jsLkDdEBBy9M",
        "outputId": "acd49e24-75d4-48bb-c701-356046378d06"
      },
      "execution_count": 19,
      "outputs": [
        {
          "output_type": "stream",
          "name": "stdout",
          "text": [
            "digite um número: 2\n",
            "2 é par.\n"
          ]
        }
      ]
    },
    {
      "cell_type": "markdown",
      "source": [
        "# Exercício 3: Verificar maior de idade"
      ],
      "metadata": {
        "id": "_BaNOkzKDoJt"
      }
    },
    {
      "cell_type": "code",
      "source": [
        "id=int(input(\"Qual a sua idade? \"))\n",
        "\n",
        "if(id > 17):\n",
        "  print(f\"{id} é maior de idade.\")\n",
        "else:\n",
        "  print(f\"{id} é menor de idade.\")\n"
      ],
      "metadata": {
        "colab": {
          "base_uri": "https://localhost:8080/"
        },
        "id": "03eYt4JJDuZU",
        "outputId": "cd5b509f-4cd7-4b67-ab56-a7d98a7ae463"
      },
      "execution_count": 22,
      "outputs": [
        {
          "output_type": "stream",
          "name": "stdout",
          "text": [
            "Qual a sua idade? 18\n",
            "18 é maior de idade.\n"
          ]
        }
      ]
    },
    {
      "cell_type": "markdown",
      "source": [
        "# Exercício 4: Senha correta"
      ],
      "metadata": {
        "id": "CUg6KxvZEL31"
      }
    },
    {
      "cell_type": "code",
      "source": [
        "senha=int(input(\"digite a senha: \"))\n",
        "\n",
        "if(senha==1234):\n",
        "  print(f\"senha correta\")\n",
        "else:\n",
        "  print(f\"senha incorreta\")"
      ],
      "metadata": {
        "colab": {
          "base_uri": "https://localhost:8080/"
        },
        "id": "Eq6qr-srEfSs",
        "outputId": "c2af7d1a-5747-47ec-ef57-67ac5f090a34"
      },
      "execution_count": 24,
      "outputs": [
        {
          "output_type": "stream",
          "name": "stdout",
          "text": [
            "digite a senha: 1234\n",
            "senha correta\n"
          ]
        }
      ]
    },
    {
      "cell_type": "markdown",
      "source": [
        "# Exercício 5: Nota e aprovação"
      ],
      "metadata": {
        "id": "y_PFdekqE7Qc"
      }
    },
    {
      "cell_type": "code",
      "source": [
        "n=float(input(\"Coloque aqui sua nota: \"))\n",
        "\n",
        "if(n>=6):\n",
        "  print(f\"aprovado.\")\n",
        "else:\n",
        "  print(f\"reprovado\")"
      ],
      "metadata": {
        "colab": {
          "base_uri": "https://localhost:8080/"
        },
        "id": "AR5ijcEmE691",
        "outputId": "6bbf99d8-c2e1-4c52-9154-366c92865b55"
      },
      "execution_count": 29,
      "outputs": [
        {
          "output_type": "stream",
          "name": "stdout",
          "text": [
            "Coloque aqui sua nota: 5.5\n",
            "reprovado\n"
          ]
        }
      ]
    },
    {
      "cell_type": "markdown",
      "source": [
        "Exercício 6: Multíplo de 3 e/ou 5"
      ],
      "metadata": {
        "id": "ovyI2jjSFrdl"
      }
    },
    {
      "cell_type": "code",
      "source": [
        "n=int(input(\"coloque seu número: \"))\n",
        "\n",
        "if(n % 3 == 0):\n",
        "  print(f\"{n} é múltiplo de 3.\")\n",
        "else:\n",
        "  print(f\"{n} não é múltiplo de 3.\")\n",
        "\n",
        "if(n % 5 == 0):\n",
        "  print(f\"{n} é múltiplo de 5.\")\n",
        "else:\n",
        "  print(f\"{n} não é múltiplo de 5\")\n",
        "\n"
      ],
      "metadata": {
        "colab": {
          "base_uri": "https://localhost:8080/"
        },
        "id": "bBMK5Ov9FyK0",
        "outputId": "1d6b94ec-600a-4290-f7c8-ace949e1750b"
      },
      "execution_count": 46,
      "outputs": [
        {
          "output_type": "stream",
          "name": "stdout",
          "text": [
            "coloque seu número: 12\n",
            "12 é múltiplo de 3.\n",
            "12 não é múltiplo de 5\n"
          ]
        }
      ]
    },
    {
      "cell_type": "markdown",
      "source": [
        "# Exercício 7: Número dentro de intervalo"
      ],
      "metadata": {
        "id": "vOK-Tn6GHgtF"
      }
    },
    {
      "cell_type": "code",
      "source": [
        "n=int(input(\"coloque sue número: \"))\n",
        "\n",
        "if(n>9 and n<21):\n",
        "  print(\"está no intervalo.\")\n",
        "else:\n",
        "  print(\"não está no intervalo.\")"
      ],
      "metadata": {
        "colab": {
          "base_uri": "https://localhost:8080/"
        },
        "id": "QgQoWk8_Hpms",
        "outputId": "bf1ef0cc-8a86-47a7-c9f4-7c43b5e89a7d"
      },
      "execution_count": 65,
      "outputs": [
        {
          "output_type": "stream",
          "name": "stdout",
          "text": [
            "coloque sue número: 10\n",
            "está no intervalo.\n"
          ]
        }
      ]
    },
    {
      "cell_type": "markdown",
      "source": [
        "# Exercício 8: Classificação do Triângulo"
      ],
      "metadata": {
        "id": "Jvzl5Wh-JkK9"
      }
    },
    {
      "cell_type": "code",
      "source": [
        "l1=int(input(\"digite o primeiro lado: \"))\n",
        "l2=int(input(\"digite o segundo lado: \"))\n",
        "l3=int(input(\"digite o terceiro lado: \"))\n",
        "\n",
        "if (l1+l2>l3) and (l2+l3>l1) and (l1+l3>l2):\n",
        "  print(\"forma um triângulo\")\n",
        "\n",
        "\n",
        "  if (l1==l2==l3):\n",
        "    print(\"o triângulo é equílatero.\")\n",
        "  else:\n",
        "    print(\"não é equílatero.\")\n",
        "\n",
        "  if (l1==l2) or (l1==l3) or (l2==l3):\n",
        "    print(\"o triângulo é isóceles.\")\n",
        "  else:\n",
        "    print(\"não é isóceles.\")\n",
        "\n",
        "  if (l1 != l2 != l3):\n",
        "    print(\"o triângulo é escaleno.\")\n",
        "  else:\n",
        "    print(\"não é escaleno.\")\n",
        "\n",
        "else:\n",
        "  print(\"não forma um triângulo.\")\n",
        "\n"
      ],
      "metadata": {
        "colab": {
          "base_uri": "https://localhost:8080/"
        },
        "id": "naonoYPSJq4N",
        "outputId": "064a4aaa-d4a9-47ea-cce1-22a5040444ee"
      },
      "execution_count": 89,
      "outputs": [
        {
          "output_type": "stream",
          "name": "stdout",
          "text": [
            "digite o primeiro lado: 12\n",
            "digite o segundo lado: 12\n",
            "digite o terceiro lado: 12\n",
            "forma um triângulo\n",
            "o triângulo é equílatero.\n",
            "o triângulo é isóceles.\n",
            "não é escaleno.\n"
          ]
        }
      ]
    }
  ]
}