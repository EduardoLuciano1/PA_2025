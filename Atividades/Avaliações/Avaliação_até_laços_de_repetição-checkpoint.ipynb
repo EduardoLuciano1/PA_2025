{
 "cells": [
  {
   "cell_type": "markdown",
   "metadata": {
    "id": "oncsAo0QKXM4"
   },
   "source": [
    "**Coloque seu nome aqui: Eduardo Lemes**"
   ]
  },
  {
   "cell_type": "markdown",
   "metadata": {
    "id": "2Wtw01VyHzBQ"
   },
   "source": [
    "1)Crie um programa em python que imprima números pares\n",
    "\n",
    "a) Pedir o usuário para digitar uma lista com mínimo 10 números\n",
    "\n",
    "b) Criar uma nova somente com numeros pares\n",
    "\n",
    "c) Imprimir números pares"
   ]
  },
  {
   "cell_type": "code",
   "execution_count": 17,
   "metadata": {
    "id": "iBpbyKp8KNKX"
   },
   "outputs": [
    {
     "name": "stdin",
     "output_type": "stream",
     "text": [
      "Me dê uma lista de 10 números:  1\n",
      "Me dê uma lista de 10 números:  2\n",
      "Me dê uma lista de 10 números:  3\n",
      "Me dê uma lista de 10 números:  4\n",
      "Me dê uma lista de 10 números:  5\n",
      "Me dê uma lista de 10 números:  6\n",
      "Me dê uma lista de 10 números:  7\n",
      "Me dê uma lista de 10 números:  8\n",
      "Me dê uma lista de 10 números:  9\n",
      "Me dê uma lista de 10 números:  10\n"
     ]
    },
    {
     "name": "stdout",
     "output_type": "stream",
     "text": [
      "[2, 4, 6, 8, 10]\n"
     ]
    }
   ],
   "source": [
    "p=[]\n",
    "\n",
    "for i in range(10):\n",
    "    n = int(input(\"Me dê uma lista de 10 números: \"))\n",
    "    if num%2 == 0:\n",
    "        p.append(n)\n",
    "\n",
    "print(pares)"
   ]
  },
  {
   "cell_type": "markdown",
   "metadata": {
    "id": "bBYPSr8JHpUA"
   },
   "source": [
    "2)Crie um programa que conte quantas vezes cada palavra aparece em uma frase.\n",
    "\n",
    "Pedir ao usuário para digitar uma frase. Imprimir a palavra e quantas vezes ela aparece"
   ]
  },
  {
   "cell_type": "code",
   "execution_count": 23,
   "metadata": {
    "id": "dQLlv-lPKPT4"
   },
   "outputs": [
    {
     "name": "stdin",
     "output_type": "stream",
     "text": [
      "Me dê uma frase:  tomei água, também tomei suco.\n"
     ]
    },
    {
     "name": "stdout",
     "output_type": "stream",
     "text": [
      "A palavra tomei aparece 2 vezes\n",
      "A palavra água, aparece 1 vezes\n",
      "A palavra também aparece 1 vezes\n",
      "A palavra suco. aparece 1 vezes\n"
     ]
    }
   ],
   "source": [
    "fr = input(\"Me dê uma frase: \")\n",
    "\n",
    "plvs = fr.split()\n",
    "contagem = {}\n",
    "\n",
    "for plv in plvs:\n",
    "    if plv in contagem:\n",
    "        contagem[plv] += 1\n",
    "    else: contagem[plv] = 1\n",
    "for plv, quantidade in contagem.items():\n",
    "    print(F\"A palavra {plv} aparece {quantidade} vezes\")"
   ]
  },
  {
   "cell_type": "markdown",
   "metadata": {
    "id": "bbWz0aL2HjP3"
   },
   "source": [
    "3)Crie um programa em Python para avaliar um desfile de candidatas. O programa deve:\n",
    "\n",
    "a) Perguntar quantas candidatas vão participar.\n",
    "\n",
    "b) Perguntar o nome de cada candidata.\n",
    "\n",
    "c) Para cada candidata, receber 3 notas (uma de cada jurado).\n",
    "\n",
    "d) Somar as notas e guardar o total em um dicionário, onde a chave é o nome da candidata e o valor é a soma das notas.\n",
    "\n",
    "Mostrar ao final:\n",
    "\n",
    "a) A pontuação total de cada candidata.\n",
    "\n",
    "b) O nome da vencedora (a que tiver a maior pontuação)."
   ]
  },
  {
   "cell_type": "code",
   "execution_count": 45,
   "metadata": {
    "id": "wrhGujbvHebJ"
   },
   "outputs": [
    {
     "name": "stdin",
     "output_type": "stream",
     "text": [
      "Quantas candidatas vão participar?  2\n",
      "\n",
      "Digite o nome da 1ª candidata:  ana\n",
      "Digite a nota do jurado 1 para ana:  10\n",
      "Digite a nota do jurado 2 para ana:  10\n",
      "Digite a nota do jurado 3 para ana:  10\n",
      "\n",
      "Digite o nome da 2ª candidata:  laura\n",
      "Digite a nota do jurado 1 para laura:  4\n",
      "Digite a nota do jurado 2 para laura:  4\n",
      "Digite a nota do jurado 3 para laura:  4\n"
     ]
    },
    {
     "name": "stdout",
     "output_type": "stream",
     "text": [
      "\n",
      "Resultados\n",
      "ana: 30.0 pontos\n",
      "laura: 12.0 pontos\n",
      "\n",
      "A vencedora é: ana, com 30.0 pontos!\n"
     ]
    }
   ],
   "source": [
    "qtd = int(input(\"Quantas candidatas vão participar? \"))\n",
    "\n",
    "notas = {}\n",
    "\n",
    "for i in range(qtd):\n",
    "    nome = input(f\"\\nDigite o nome da {i+1}ª candidata: \")\n",
    "    total = 0\n",
    "\n",
    "    for j in range(3):\n",
    "        nota = float(input(f\"Digite a nota do jurado {j+1} para {nome}: \"))\n",
    "        total += nota\n",
    "\n",
    "    notas[nome] = total\n",
    "\n",
    "print(\"\\nResultados\")\n",
    "\n",
    "for candidata, pontos in notas.items():\n",
    "    print(f\"{candidata}: {pontos} pontos\")\n",
    "\n",
    "vencedora = max(notas, key=notas.get)\n",
    "print(f\"\\nA vencedora é: {vencedora}, com {notas[vencedora]} pontos!\")"
   ]
  },
  {
   "cell_type": "code",
   "execution_count": null,
   "metadata": {},
   "outputs": [],
   "source": []
  }
 ],
 "metadata": {
  "colab": {
   "provenance": []
  },
  "kernelspec": {
   "display_name": "Python 3 (ipykernel)",
   "language": "python",
   "name": "python3"
  },
  "language_info": {
   "codemirror_mode": {
    "name": "ipython",
    "version": 3
   },
   "file_extension": ".py",
   "mimetype": "text/x-python",
   "name": "python",
   "nbconvert_exporter": "python",
   "pygments_lexer": "ipython3",
   "version": "3.11.4"
  }
 },
 "nbformat": 4,
 "nbformat_minor": 4
}
