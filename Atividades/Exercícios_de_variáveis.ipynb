{
  "nbformat": 4,
  "nbformat_minor": 0,
  "metadata": {
    "colab": {
      "provenance": [],
      "authorship_tag": "ABX9TyPO4j13HWluX4qKlcXN/pBz",
      "include_colab_link": true
    },
    "kernelspec": {
      "name": "python3",
      "display_name": "Python 3"
    },
    "language_info": {
      "name": "python"
    }
  },
  "cells": [
    {
      "cell_type": "markdown",
      "metadata": {
        "id": "view-in-github",
        "colab_type": "text"
      },
      "source": [
        "<a href=\"https://colab.research.google.com/github/EduardoLuciano1/PA_2025/blob/main/Exerc%C3%ADcios_de_vari%C3%A1veis.ipynb\" target=\"_parent\"><img src=\"https://colab.research.google.com/assets/colab-badge.svg\" alt=\"Open In Colab\"/></a>"
      ]
    },
    {
      "cell_type": "markdown",
      "source": [
        "# Cálculo de uma média de um aluno"
      ],
      "metadata": {
        "id": "yDQf1ZfefZnV"
      }
    },
    {
      "cell_type": "code",
      "source": [
        "#Entrada\n",
        "p1 = float(input(\"digite a nota da primeira prova: \"))\n",
        "p2 = float(input(\"digite a nota da segunda prova: \"))\n",
        "\n",
        "#Processamento\n",
        "media = (p1+p2)/2\n",
        "\n",
        "#saída\n",
        "print (\"A nota da média do aluno é:\", media)"
      ],
      "metadata": {
        "colab": {
          "base_uri": "https://localhost:8080/"
        },
        "id": "8jkCF7zmfft1",
        "outputId": "11017c9c-320f-4c8f-dbf1-eed0910e2141"
      },
      "execution_count": 12,
      "outputs": [
        {
          "output_type": "stream",
          "name": "stdout",
          "text": [
            "digite a nota da primeira prova: 5\n",
            "digite a nota da segunda prova: 5\n",
            "A nota da média do aluno é: 5.0\n"
          ]
        }
      ]
    },
    {
      "cell_type": "markdown",
      "source": [
        "# Exercício 1"
      ],
      "metadata": {
        "id": "IHKn3ZrBnDo-"
      }
    },
    {
      "cell_type": "code",
      "source": [
        "#entrada\n",
        "valor = float(input(\"Valor da peça: \"))\n",
        "qtde = int(input(\"Quantidade de peças: \"))\n",
        "\n",
        "#processamento\n",
        "vt = (qtde*valor)\n",
        "\n",
        "#saída\n",
        "print (\"O valor total das peças é:\", vt)"
      ],
      "metadata": {
        "colab": {
          "base_uri": "https://localhost:8080/"
        },
        "id": "VwwsIxIonA7R",
        "outputId": "e192d334-c240-4f3b-9922-a0f61463cf39"
      },
      "execution_count": 22,
      "outputs": [
        {
          "output_type": "stream",
          "name": "stdout",
          "text": [
            "Valor da peça: 10\n",
            "Quantidade de peças: 1\n",
            "O valor total das peças é: 30.0\n"
          ]
        }
      ]
    },
    {
      "cell_type": "code",
      "source": [
        "#Entrada\n",
        "n1 = float(input(\"Digite o número: \"))\n",
        "\n",
        "#Processamento\n",
        "r = (n1*3)\n",
        "\n",
        "#Saída\n",
        "print(\"O tríplo do número\", n1, \"é\", r)"
      ],
      "metadata": {
        "colab": {
          "base_uri": "https://localhost:8080/"
        },
        "id": "z_QfLcasrtjP",
        "outputId": "b302c7c4-e659-46f0-c318-7dcefad9dcf7"
      },
      "execution_count": 35,
      "outputs": [
        {
          "output_type": "stream",
          "name": "stdout",
          "text": [
            "Digite o número: 10\n",
            "O tríplo do número 10.0 é 30.0\n"
          ]
        }
      ]
    },
    {
      "cell_type": "markdown",
      "source": [
        "# Graus célsius em Fahrenheit (°C em °F)"
      ],
      "metadata": {
        "id": "_KR0ioJftnlq"
      }
    },
    {
      "cell_type": "code",
      "source": [
        "#Entrada\n",
        "c = float(input(\"Quantos °C estão?: \"))\n",
        "\n",
        "#Processamento\n",
        "f = c*1.8+32\n",
        "\n",
        "#Saída\n",
        "print(\"Estão\", f, \"°F.\")"
      ],
      "metadata": {
        "colab": {
          "base_uri": "https://localhost:8080/"
        },
        "id": "-yoxZ8mbtUXd",
        "outputId": "bfe967a9-c696-4724-f37e-e20eb0d4b002"
      },
      "execution_count": 64,
      "outputs": [
        {
          "output_type": "stream",
          "name": "stdout",
          "text": [
            "Quantos °C estão?: 213\n",
            "Estão 415.40000000000003 °F\n"
          ]
        }
      ]
    },
    {
      "cell_type": "markdown",
      "source": [
        "# Quilômetros em Milhas"
      ],
      "metadata": {
        "id": "bKgLkeEyzTQA"
      }
    },
    {
      "cell_type": "code",
      "source": [
        "#entrada\n",
        "km = float(input(\"digite a distancia em km: \"))\n",
        "\n",
        "#processamento\n",
        "mi = km*1.6\n",
        "\n",
        "#saída\n",
        "print (\"A distancia em milhas é de:\", mi)"
      ],
      "metadata": {
        "colab": {
          "base_uri": "https://localhost:8080/"
        },
        "id": "F15dQLOs4c49",
        "outputId": "3d063144-3b16-4612-a802-50b6d6687ddb"
      },
      "execution_count": 82,
      "outputs": [
        {
          "output_type": "stream",
          "name": "stdout",
          "text": [
            "digite a distancia em km: 12\n",
            "A distancia em milhas é de: 19.200000000000003\n"
          ]
        }
      ]
    }
  ]
}