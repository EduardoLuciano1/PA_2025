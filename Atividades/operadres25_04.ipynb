{
  "nbformat": 4,
  "nbformat_minor": 0,
  "metadata": {
    "colab": {
      "provenance": [],
      "authorship_tag": "ABX9TyPMr3+x2w+5pDSlrahD4VCJ",
      "include_colab_link": true
    },
    "kernelspec": {
      "name": "python3",
      "display_name": "Python 3"
    },
    "language_info": {
      "name": "python"
    }
  },
  "cells": [
    {
      "cell_type": "markdown",
      "metadata": {
        "id": "view-in-github",
        "colab_type": "text"
      },
      "source": [
        "<a href=\"https://colab.research.google.com/github/EduardoLuciano1/PA_2025/blob/main/operadres25_04.ipynb\" target=\"_parent\"><img src=\"https://colab.research.google.com/assets/colab-badge.svg\" alt=\"Open In Colab\"/></a>"
      ]
    },
    {
      "cell_type": "markdown",
      "source": [
        "Impar ou par"
      ],
      "metadata": {
        "id": "bViFH7tcKZrn"
      }
    },
    {
      "cell_type": "code",
      "execution_count": null,
      "metadata": {
        "colab": {
          "base_uri": "https://localhost:8080/"
        },
        "id": "TbNXC85FJ3zn",
        "outputId": "1267bde0-c6a6-495c-da91-b619e32b6a6d"
      },
      "outputs": [
        {
          "output_type": "stream",
          "name": "stdout",
          "text": [
            "Coloque seu número: 2\n",
            "Seu número é par True\n",
            "Seu número é impar False\n"
          ]
        }
      ],
      "source": [
        "#entrada\n",
        "valor = int(input(\"Coloque seu número: \"))\n",
        "\n",
        "#processamento\n",
        "\n",
        "par = (valor%2) == 0\n",
        "impar = (valor%2) == 1\n",
        "\n",
        "#saída\n",
        "print(f\"Seu número é par {par}\")\n",
        "print(f\"Seu número é impar {impar}\")"
      ]
    },
    {
      "cell_type": "markdown",
      "source": [
        "Triangulo"
      ],
      "metadata": {
        "id": "MSrUxdCcKlKX"
      }
    },
    {
      "cell_type": "code",
      "source": [
        "#entrada\n",
        "l1 = int(input(\"coloque o lado 1: \"))\n",
        "l2 = int(input(\"coloque o lado 2: \"))\n",
        "l3 = int(input(\"coloque o lado 3: \"))\n",
        "\n",
        "#processamento\n",
        "pst = ((l1+l2>l3) and (l1+l3>l2) and (l2+l3>l1))\n",
        "eq = (l1 == l2 == l3)\n",
        "es = (l1 != l2 and l1 != l3 and l2 != l3)\n",
        "iso = (l1 == l2 or l1 == l3 or l2 == l3)\n",
        "\n",
        "#saída\n",
        "print(f\"fomra triânglo {pst}\")\n",
        "print(f\"é equilátero {eq}\")\n",
        "print(f\"é escaleno {es}\")\n",
        "print(f\"é isóceles {iso}\")"
      ],
      "metadata": {
        "colab": {
          "base_uri": "https://localhost:8080/"
        },
        "id": "PLQ1A1B0KkvX",
        "outputId": "8b143000-8b05-48c0-8071-82728711fd7f"
      },
      "execution_count": 7,
      "outputs": [
        {
          "output_type": "stream",
          "name": "stdout",
          "text": [
            "coloque o lado 1: 12\n",
            "coloque o lado 2: 12\n",
            "coloque o lado 3: 12\n",
            "fomra triânglo True\n",
            "é equilátero True\n",
            "é escaleno False\n",
            "é isóceles True\n"
          ]
        }
      ]
    },
    {
      "cell_type": "markdown",
      "source": [],
      "metadata": {
        "id": "fXKtCNvYL0aJ"
      }
    },
    {
      "cell_type": "markdown",
      "source": [
        "IMC"
      ],
      "metadata": {
        "id": "e-El67Hbe6gV"
      }
    },
    {
      "cell_type": "code",
      "source": [
        "#entrada\n",
        "\n",
        "altura = float(input(\"Qual a sua altura? \"))\n",
        "peso = float(input(\"Qual o seu peso? \"))\n",
        "\n",
        "#processamento\n",
        "\n",
        "imc = (peso/altura**2)\n",
        "\n",
        "abaixo = imc < 18.5\n",
        "normal = 18.5 <= imc < 24.9\n",
        "acima = 25 <= imc < 29.9\n",
        "grau1 = 30 <= imc < 34.9\n",
        "grau2 = 35 <= imc < 39.9\n",
        "grau3 = imc >= 40\n",
        "\n",
        "#saída\n",
        "\n",
        "print(f\"Seu IMC {imc:.2f}\")\n",
        "print(f\"Abaixo do peso {abaixo}\")\n",
        "print(f\"Peso normal {normal}\")\n",
        "print(f\"Acima do peso {acima}\")\n",
        "print(f\"Obesidade grau 1 {grau1}\")\n",
        "print(f\"Obesidade grau 2 {grau2}\")\n",
        "print(f\"Obesidade grau 3 {grau3}\")"
      ],
      "metadata": {
        "id": "7GFVPCMrL0A6",
        "colab": {
          "base_uri": "https://localhost:8080/"
        },
        "outputId": "df7754cf-d316-44be-aeca-6c783aafe826"
      },
      "execution_count": 16,
      "outputs": [
        {
          "output_type": "stream",
          "name": "stdout",
          "text": [
            "Qual a sua altura? 1.60\n",
            "Qual o seu peso? 60\n",
            "Seu IMC 23.44\n",
            "Abaixo do peso False\n",
            "Peso normal True\n",
            "Acima do peso False\n",
            "Obesidade grau 1 False\n",
            "Obesidade grau 2 False\n",
            "Obesidade grau 3 False\n"
          ]
        }
      ]
    },
    {
      "cell_type": "markdown",
      "source": [
        "Competir no vôlei"
      ],
      "metadata": {
        "id": "ehBr-Jq9kxon"
      }
    },
    {
      "cell_type": "code",
      "source": [
        "#entrada\n",
        "\n",
        "altura = float(input(\"Qual a sua altura?: \"))\n",
        "idade = float (input(\"Qual a sua idade?: \"))\n",
        "\n",
        "#processamento\n",
        "\n",
        "alturav = altura >= 1.75\n",
        "idadev = idade >= 18\n",
        "\n",
        "#saída\n",
        "print(f\"Você tem altura válida: {alturav}\")\n",
        "print(f\"Você tem idade válida: {idadev}\")\n",
        "print(f\"Você tem a altura {alturav} e idade {idadev}\")\n"
      ],
      "metadata": {
        "colab": {
          "base_uri": "https://localhost:8080/"
        },
        "id": "wzakMUEckot-",
        "outputId": "4d6a3a55-24a9-4deb-92af-48f0b2b23290"
      },
      "execution_count": 25,
      "outputs": [
        {
          "output_type": "stream",
          "name": "stdout",
          "text": [
            "Qual a sua altura?: 1.60\n",
            "Qual a sua idade?: 20\n",
            "Você tem altura válida: False\n",
            "Você tem idade válida: True\n",
            "Você tem a altura False e idade True\n"
          ]
        }
      ]
    }
  ]
}