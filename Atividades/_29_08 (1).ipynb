{
  "nbformat": 4,
  "nbformat_minor": 0,
  "metadata": {
    "colab": {
      "provenance": []
    },
    "kernelspec": {
      "name": "python3",
      "display_name": "Python 3"
    },
    "language_info": {
      "name": "python"
    }
  },
  "cells": [
    {
      "cell_type": "markdown",
      "metadata": {
        "id": "view-in-github"
      },
      "source": [
        "<a href=\"https://colab.research.google.com/github/Marciobarrosetec/Aula_PA/blob/main/Exercicios_juntos_La%C3%A7os%2C_condicionais%2C_listas%2C_tuplas_e_dicion%C3%A1rios_29_08.ipynb\" target=\"_parent\"><img src=\"https://colab.research.google.com/assets/colab-badge.svg\" alt=\"Open In Colab\"/></a>"
      ]
    },
    {
      "cell_type": "markdown",
      "source": [
        "Lista de Exercícios unindo tudo que foi ensinado até o momento:\n",
        "\n",
        "\n",
        "*   Condicionais\n",
        "*   Laços de Reptição\n",
        "*   Listas\n",
        "*   Tuplas\n",
        "*   Dicionários\n",
        "*   Manipulação de Strings\n",
        "\n",
        "\n",
        "\n",
        "\n",
        "\n"
      ],
      "metadata": {
        "id": "JsFcwNObBRcd"
      }
    },
    {
      "cell_type": "markdown",
      "source": [
        "# Tuplas - Acesso e Desempacotamento\n",
        "\n",
        "1) Crie uma tupla contendo três tipos diferentes de dados: um número, uma string e uma lista. Use um laço de repetição para acessar e imprimir cada item da tupla. Além disso, dentro do laço, acesse e imprima o segundo item da lista que está dentro da tupla."
      ],
      "metadata": {
        "id": "HM91bKpkBqGI"
      }
    },
    {
      "cell_type": "code",
      "source": [
        "minha_tupla = (42, \"Python\", [10, 20, 30, 40, 50])\n",
        "\n",
        "print(\"Acessando cada item da tupla:\")\n",
        "i = 0\n",
        "while i < len(minha_tupla):\n",
        "    item = minha_tupla[i]\n",
        "    print(f\"Item {i + 1}: {item}\")\n",
        "\n",
        "\n",
        "\n",
        "    i += 1"
      ],
      "metadata": {
        "colab": {
          "base_uri": "https://localhost:8080/"
        },
        "id": "sCbCOqPVYeRv",
        "outputId": "9109c672-bbdb-48d5-d842-f7fb086adf9b"
      },
      "execution_count": null,
      "outputs": [
        {
          "output_type": "stream",
          "name": "stdout",
          "text": [
            "Acessando cada item da tupla:\n",
            "Item 1: 42\n",
            "Item 2: Python\n",
            "Item 3: [10, 20, 30, 40, 50]\n"
          ]
        }
      ]
    },
    {
      "cell_type": "code",
      "source": [],
      "metadata": {
        "id": "pZ8TJ7EFYsjg"
      },
      "execution_count": null,
      "outputs": []
    },
    {
      "cell_type": "markdown",
      "source": [
        "# Dicionários - Criação e Acesso\n",
        "## Cadastro de Pessoas e Análise de Alturas\n",
        "2) Solicite ao usuário para inserir o nome e a altura de várias pessoas. Preencha um dicionário com essas informações e depois encontre e imprima o nome e a altura da pessoa mais alta e da mais baixa."
      ],
      "metadata": {
        "id": "6vEHxGtjBxMi"
      }
    },
    {
      "cell_type": "code",
      "source": [
        "pessoas = {}\n",
        "\n",
        "while True:\n",
        "    nome = input(\"Nome (digite 'fim' para parar): \")\n",
        "    if nome == 'fim':\n",
        "        break\n",
        "    altura = float(input(\"Altura: \"))\n",
        "    pessoas[nome] = altura\n",
        "\n",
        "if pessoas:\n",
        "    print(f\"Mais alta: {max(pessoas, key=pessoas.get)}\")\n",
        "    print(f\"Mais baixa: {min(pessoas, key=pessoas.get)}\")"
      ],
      "metadata": {
        "id": "MpJYauvTZR69",
        "colab": {
          "base_uri": "https://localhost:8080/"
        },
        "outputId": "ff89694f-7c6e-4cf3-f314-c72ddd4771fb"
      },
      "execution_count": null,
      "outputs": [
        {
          "output_type": "stream",
          "name": "stdout",
          "text": [
            "Nome (digite 'fim' para parar): Eduardo\n",
            "Altura: 1.73\n",
            "Nome (digite 'fim' para parar): Ana\n",
            "Altura: 1.65\n",
            "Nome (digite 'fim' para parar): Arthur\n",
            "Altura: 1.70\n",
            "Nome (digite 'fim' para parar): fim\n",
            "Mais alta: Eduardo\n",
            "Mais baixa: Ana\n"
          ]
        }
      ]
    },
    {
      "cell_type": "markdown",
      "source": [
        "# Lista, laços e Condicionais\n",
        "3) Descrição: Crie uma listacom cinco números inteiros. Use um laço de repetição e uma condicional para imprimir apenas os números que são múltiplos de 3."
      ],
      "metadata": {
        "id": "FytD4QZyELAt"
      }
    },
    {
      "cell_type": "code",
      "source": [
        "numeros = [8, 9, 6, 3, 2]\n",
        "\n",
        "print(\"Números múltiplos de 3:\")\n",
        "for numero in numeros:\n",
        "    if numero % 3 == 0:\n",
        "        print(numero)"
      ],
      "metadata": {
        "colab": {
          "base_uri": "https://localhost:8080/"
        },
        "id": "9RaBmzm8dW5p",
        "outputId": "83f75cef-7164-45f6-91b5-2d448e1322ff"
      },
      "execution_count": null,
      "outputs": [
        {
          "output_type": "stream",
          "name": "stdout",
          "text": [
            "Números múltiplos de 3:\n",
            "9\n",
            "6\n",
            "3\n"
          ]
        }
      ]
    },
    {
      "cell_type": "markdown",
      "source": [
        "# Manipulação de Strings e Condicionais\n",
        "4) Descrição: Crie uma string com uma frase. Use uma condicional para verificar se a frase contém a palavra \"Python\". Se sim, substitua a palavra \"Python\" por \"programação\" e imprima a nova frase."
      ],
      "metadata": {
        "id": "hwn3Fz8aEYSH"
      }
    },
    {
      "cell_type": "code",
      "source": [
        "frase = input(\"Digite uma frase: \")\n",
        "\n",
        "if \"python\" in frase:\n",
        "    nova_frase = frase.replace(\"python\", \"programação\")\n",
        "    print(\"Frase modificada:\", nova_frase)\n",
        "else:\n",
        "    print(\"A palavra 'Python' não foi encontrada.\")"
      ],
      "metadata": {
        "id": "4nJmZZ9Qqg_f",
        "colab": {
          "base_uri": "https://localhost:8080/"
        },
        "outputId": "b03ed028-b40e-41ed-b5bd-e7fa9df3be70"
      },
      "execution_count": null,
      "outputs": [
        {
          "output_type": "stream",
          "name": "stdout",
          "text": [
            "Digite uma frase: python\n",
            "Frase modificada: programação\n"
          ]
        }
      ]
    },
    {
      "cell_type": "markdown",
      "source": [
        "# Simulação de Alfândega com Cadastro Dinâmico de Itens usando dicionário\n",
        "5) Simule uma situação de alfândega onde o funcionário cadastra itens novos encontrados na mala de uma pessoa que veio de uma viagem internacional. Após o cadastro de todos os itens, o programa imprime uma nota com todos os itens e seus preços, calcula o valor total e, se o valor total ultrapassar 500 dólares, calcula o valor de 60% a ser pago."
      ],
      "metadata": {
        "id": "hPP-JNTxEwFT"
      }
    },
    {
      "cell_type": "code",
      "source": [
        "itens = {}\n",
        "\n",
        "while True:\n",
        "    nome = input(\"Nome do item (digite 'fim' para parar): \")\n",
        "    if nome == 'fim':\n",
        "        break\n",
        "    preco = float(input(\"Preço em dólares: \"))\n",
        "    itens[nome] = preco\n",
        "\n",
        "if itens:\n",
        "    print(\"\\nItens cadastrados:\")\n",
        "    total = 0\n",
        "    for item, preco in itens.items():\n",
        "        print(f\"{item}: ${preco}\")\n",
        "        total += preco\n",
        "\n",
        "    print(f\"\\nTotal: ${total}\")\n",
        "\n",
        "    if total > 500:\n",
        "        imposto = total * 0.6\n",
        "        print(f\"Imposto (60%): ${imposto}\")\n",
        "else:\n",
        "    print(\"Nenhum item cadastrado.\")"
      ],
      "metadata": {
        "id": "U2bGTm2PqgGi",
        "colab": {
          "base_uri": "https://localhost:8080/"
        },
        "outputId": "c186f3c6-9224-4854-bab5-f5ae22727322"
      },
      "execution_count": null,
      "outputs": [
        {
          "output_type": "stream",
          "name": "stdout",
          "text": [
            "Nome do item (digite 'fim' para parar): suco\n",
            "Preço em dólares: 2\n",
            "Nome do item (digite 'fim' para parar): saco\n",
            "Preço em dólares: 2\n",
            "Nome do item (digite 'fim' para parar): fita\n",
            "Preço em dólares: 3\n",
            "Nome do item (digite 'fim' para parar): fim\n",
            "\n",
            "Itens cadastrados:\n",
            "suco: $2.0\n",
            "saco: $2.0\n",
            "fita: $3.0\n",
            "\n",
            "Total: $7.0\n"
          ]
        }
      ]
    },
    {
      "cell_type": "markdown",
      "source": [
        "# Identificação de Palavras Negativas em um Texto\n",
        "6) Você vai criar um programa em Python para analisar um texto e identificar palavras que expressam pensamentos negativos. Para isso, você usará uma lista de palavras negativas fornecida e verificará quais dessas palavras estão presentes no texto fornecido pelo usuário. Exemplo de palavras negtivas, acrescente mais na lista: # Lista de palavras negativas palavras_negativas = ['triste', 'deprimido', 'ansioso', 'desapontado', 'frustrado']"
      ],
      "metadata": {
        "id": "OH8D047zVsp-"
      }
    },
    {
      "cell_type": "code",
      "source": [
        "palavras_negativas = ['triste', 'deprimido', 'ansioso', 'desapontado', 'frustrado']\n",
        "\n",
        "texto = input(\"Digite o texto para análise: \").lower()\n",
        "\n",
        "encontradas = []\n",
        "for palavra in palavras_negativas:\n",
        "    if palavra in texto:\n",
        "        encontradas.append(palavra)\n",
        "\n",
        "if encontradas:\n",
        "    print(\"Palavras negativas encontradas:\")\n",
        "    for palavra in encontradas:\n",
        "        print(palavra)\n",
        "else:\n",
        "    print(\"Nenhuma palavra negativa encontrada.\")"
      ],
      "metadata": {
        "id": "xDSrYWf_Vr8G",
        "colab": {
          "base_uri": "https://localhost:8080/"
        },
        "outputId": "556b1bc7-d9b9-496c-d544-a7d5d1dbedaa"
      },
      "execution_count": null,
      "outputs": [
        {
          "output_type": "stream",
          "name": "stdout",
          "text": [
            "Digite o texto para análise: não estou triste\n",
            "Palavras negativas encontradas:\n",
            "triste\n"
          ]
        }
      ]
    }
  ]
}